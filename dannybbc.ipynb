{
 "cells": [
  {
   "cell_type": "code",
   "execution_count": 1,
   "id": "9122b662",
   "metadata": {
    "_cell_guid": "b1076dfc-b9ad-4769-8c92-a6c4dae69d19",
    "_uuid": "8f2839f25d086af736a60e9eeb907d3b93b6e0e5",
    "execution": {
     "iopub.execute_input": "2025-03-31T21:09:17.142433Z",
     "iopub.status.busy": "2025-03-31T21:09:17.141797Z",
     "iopub.status.idle": "2025-03-31T21:09:20.112133Z",
     "shell.execute_reply": "2025-03-31T21:09:20.110830Z"
    },
    "papermill": {
     "duration": 2.977613,
     "end_time": "2025-03-31T21:09:20.114059",
     "exception": false,
     "start_time": "2025-03-31T21:09:17.136446",
     "status": "completed"
    },
    "tags": []
   },
   "outputs": [
    {
     "name": "stdout",
     "output_type": "stream",
     "text": [
      "/kaggle/input/learn-ai-bbc/BBC News Train.csv\n",
      "/kaggle/input/learn-ai-bbc/BBC News Sample Solution.csv\n",
      "/kaggle/input/learn-ai-bbc/BBC News Test.csv\n"
     ]
    }
   ],
   "source": [
    "# This Python 3 environment comes with many helpful analytics libraries installed\n",
    "# It is defined by the kaggle/python Docker image: https://github.com/kaggle/docker-python\n",
    "# For example, here's several helpful packages to load\n",
    "\n",
    "import numpy as np # linear algebra\n",
    "import pandas as pd # data processing, CSV file I/O (e.g. pd.read_csv)\n",
    "import matplotlib.pyplot as plt\n",
    "import seaborn as sns\n",
    "\n",
    "# Input data files are available in the read-only \"../input/\" directory\n",
    "# For example, running this (by clicking run or pressing Shift+Enter) will list all files under the input directory\n",
    "\n",
    "import os\n",
    "for dirname, _, filenames in os.walk('/kaggle/input'):\n",
    "    for filename in filenames:\n",
    "        print(os.path.join(dirname, filename))\n",
    "\n",
    "# You can write up to 20GB to the current directory (/kaggle/working/) that gets preserved as output when you create a version using \"Save & Run All\" \n",
    "# You can also write temporary files to /kaggle/temp/, but they won't be saved outside of the current session"
   ]
  },
  {
   "cell_type": "code",
   "execution_count": 2,
   "id": "29235e9e",
   "metadata": {
    "execution": {
     "iopub.execute_input": "2025-03-31T21:09:20.120997Z",
     "iopub.status.busy": "2025-03-31T21:09:20.120484Z",
     "iopub.status.idle": "2025-03-31T21:09:20.245476Z",
     "shell.execute_reply": "2025-03-31T21:09:20.244395Z"
    },
    "papermill": {
     "duration": 0.130709,
     "end_time": "2025-03-31T21:09:20.247875",
     "exception": false,
     "start_time": "2025-03-31T21:09:20.117166",
     "status": "completed"
    },
    "tags": []
   },
   "outputs": [
    {
     "data": {
      "text/html": [
       "<div>\n",
       "<style scoped>\n",
       "    .dataframe tbody tr th:only-of-type {\n",
       "        vertical-align: middle;\n",
       "    }\n",
       "\n",
       "    .dataframe tbody tr th {\n",
       "        vertical-align: top;\n",
       "    }\n",
       "\n",
       "    .dataframe thead th {\n",
       "        text-align: right;\n",
       "    }\n",
       "</style>\n",
       "<table border=\"1\" class=\"dataframe\">\n",
       "  <thead>\n",
       "    <tr style=\"text-align: right;\">\n",
       "      <th></th>\n",
       "      <th>ArticleId</th>\n",
       "      <th>Text</th>\n",
       "      <th>Category</th>\n",
       "    </tr>\n",
       "  </thead>\n",
       "  <tbody>\n",
       "    <tr>\n",
       "      <th>0</th>\n",
       "      <td>1833</td>\n",
       "      <td>worldcom ex-boss launches defence lawyers defe...</td>\n",
       "      <td>business</td>\n",
       "    </tr>\n",
       "    <tr>\n",
       "      <th>1</th>\n",
       "      <td>154</td>\n",
       "      <td>german business confidence slides german busin...</td>\n",
       "      <td>business</td>\n",
       "    </tr>\n",
       "    <tr>\n",
       "      <th>2</th>\n",
       "      <td>1101</td>\n",
       "      <td>bbc poll indicates economic gloom citizens in ...</td>\n",
       "      <td>business</td>\n",
       "    </tr>\n",
       "    <tr>\n",
       "      <th>3</th>\n",
       "      <td>1976</td>\n",
       "      <td>lifestyle  governs mobile choice  faster  bett...</td>\n",
       "      <td>tech</td>\n",
       "    </tr>\n",
       "    <tr>\n",
       "      <th>4</th>\n",
       "      <td>917</td>\n",
       "      <td>enron bosses in $168m payout eighteen former e...</td>\n",
       "      <td>business</td>\n",
       "    </tr>\n",
       "  </tbody>\n",
       "</table>\n",
       "</div>"
      ],
      "text/plain": [
       "   ArticleId                                               Text  Category\n",
       "0       1833  worldcom ex-boss launches defence lawyers defe...  business\n",
       "1        154  german business confidence slides german busin...  business\n",
       "2       1101  bbc poll indicates economic gloom citizens in ...  business\n",
       "3       1976  lifestyle  governs mobile choice  faster  bett...      tech\n",
       "4        917  enron bosses in $168m payout eighteen former e...  business"
      ]
     },
     "metadata": {},
     "output_type": "display_data"
    },
    {
     "name": "stdout",
     "output_type": "stream",
     "text": [
      "Dataset Shape: (1490, 3)\n",
      "\n",
      "Column Data Types:\n",
      " ArticleId     int64\n",
      "Text         object\n",
      "Category     object\n",
      "dtype: object\n"
     ]
    }
   ],
   "source": [
    "# Load train dataset\n",
    "file_path = '/kaggle/input/learn-ai-bbc/BBC News Train.csv'\n",
    "df = pd.read_csv(file_path)\n",
    "\n",
    "# Display basic information\n",
    "# Display all columns\n",
    "pd.set_option('display.max_columns', None)\n",
    "# Display first few rows\n",
    "display(df.head())\n",
    "# Summary statistics\n",
    "print(\"Dataset Shape:\", df.shape)\n",
    "print(\"\\nColumn Data Types:\\n\", df.dtypes)"
   ]
  },
  {
   "cell_type": "code",
   "execution_count": 3,
   "id": "b3dc4686",
   "metadata": {
    "execution": {
     "iopub.execute_input": "2025-03-31T21:09:20.254678Z",
     "iopub.status.busy": "2025-03-31T21:09:20.254286Z",
     "iopub.status.idle": "2025-03-31T21:09:20.317987Z",
     "shell.execute_reply": "2025-03-31T21:09:20.316798Z"
    },
    "papermill": {
     "duration": 0.069149,
     "end_time": "2025-03-31T21:09:20.319799",
     "exception": false,
     "start_time": "2025-03-31T21:09:20.250650",
     "status": "completed"
    },
    "tags": []
   },
   "outputs": [
    {
     "data": {
      "text/html": [
       "<div>\n",
       "<style scoped>\n",
       "    .dataframe tbody tr th:only-of-type {\n",
       "        vertical-align: middle;\n",
       "    }\n",
       "\n",
       "    .dataframe tbody tr th {\n",
       "        vertical-align: top;\n",
       "    }\n",
       "\n",
       "    .dataframe thead th {\n",
       "        text-align: right;\n",
       "    }\n",
       "</style>\n",
       "<table border=\"1\" class=\"dataframe\">\n",
       "  <thead>\n",
       "    <tr style=\"text-align: right;\">\n",
       "      <th></th>\n",
       "      <th>ArticleId</th>\n",
       "      <th>Text</th>\n",
       "    </tr>\n",
       "  </thead>\n",
       "  <tbody>\n",
       "    <tr>\n",
       "      <th>0</th>\n",
       "      <td>1018</td>\n",
       "      <td>qpr keeper day heads for preston queens park r...</td>\n",
       "    </tr>\n",
       "    <tr>\n",
       "      <th>1</th>\n",
       "      <td>1319</td>\n",
       "      <td>software watching while you work software that...</td>\n",
       "    </tr>\n",
       "    <tr>\n",
       "      <th>2</th>\n",
       "      <td>1138</td>\n",
       "      <td>d arcy injury adds to ireland woe gordon d arc...</td>\n",
       "    </tr>\n",
       "    <tr>\n",
       "      <th>3</th>\n",
       "      <td>459</td>\n",
       "      <td>india s reliance family feud heats up the ongo...</td>\n",
       "    </tr>\n",
       "    <tr>\n",
       "      <th>4</th>\n",
       "      <td>1020</td>\n",
       "      <td>boro suffer morrison injury blow middlesbrough...</td>\n",
       "    </tr>\n",
       "  </tbody>\n",
       "</table>\n",
       "</div>"
      ],
      "text/plain": [
       "   ArticleId                                               Text\n",
       "0       1018  qpr keeper day heads for preston queens park r...\n",
       "1       1319  software watching while you work software that...\n",
       "2       1138  d arcy injury adds to ireland woe gordon d arc...\n",
       "3        459  india s reliance family feud heats up the ongo...\n",
       "4       1020  boro suffer morrison injury blow middlesbrough..."
      ]
     },
     "metadata": {},
     "output_type": "display_data"
    },
    {
     "name": "stdout",
     "output_type": "stream",
     "text": [
      "Dataset Shape: (735, 2)\n",
      "\n",
      "Column Data Types:\n",
      " ArticleId     int64\n",
      "Text         object\n",
      "dtype: object\n"
     ]
    }
   ],
   "source": [
    "# Load test dataset\n",
    "file_path2 = '/kaggle/input/learn-ai-bbc/BBC News Test.csv'\n",
    "dftest = pd.read_csv(file_path2)\n",
    "\n",
    "# Display basic information\n",
    "# Display all columns\n",
    "pd.set_option('display.max_columns', None)\n",
    "# Display first few rows\n",
    "display(dftest.head())\n",
    "# Summary statistics\n",
    "print(\"Dataset Shape:\", dftest.shape)\n",
    "print(\"\\nColumn Data Types:\\n\", dftest.dtypes)"
   ]
  },
  {
   "cell_type": "code",
   "execution_count": 4,
   "id": "6214714b",
   "metadata": {
    "execution": {
     "iopub.execute_input": "2025-03-31T21:09:20.328830Z",
     "iopub.status.busy": "2025-03-31T21:09:20.328341Z",
     "iopub.status.idle": "2025-03-31T21:09:20.339236Z",
     "shell.execute_reply": "2025-03-31T21:09:20.338044Z"
    },
    "papermill": {
     "duration": 0.017199,
     "end_time": "2025-03-31T21:09:20.341165",
     "exception": false,
     "start_time": "2025-03-31T21:09:20.323966",
     "status": "completed"
    },
    "tags": []
   },
   "outputs": [
    {
     "name": "stdout",
     "output_type": "stream",
     "text": [
      "\n",
      "Missing Values:\n",
      " ArticleId    0\n",
      "Text         0\n",
      "Category     0\n",
      "dtype: int64\n"
     ]
    }
   ],
   "source": [
    "# Check for missing values\n",
    "missing_values = df.isnull().sum()\n",
    "# Display the missing values\n",
    "print(\"\\nMissing Values:\\n\", missing_values)"
   ]
  },
  {
   "cell_type": "code",
   "execution_count": 5,
   "id": "1ee37d23",
   "metadata": {
    "execution": {
     "iopub.execute_input": "2025-03-31T21:09:20.349083Z",
     "iopub.status.busy": "2025-03-31T21:09:20.348659Z",
     "iopub.status.idle": "2025-03-31T21:09:20.723614Z",
     "shell.execute_reply": "2025-03-31T21:09:20.722327Z"
    },
    "papermill": {
     "duration": 0.381369,
     "end_time": "2025-03-31T21:09:20.726018",
     "exception": false,
     "start_time": "2025-03-31T21:09:20.344649",
     "status": "completed"
    },
    "tags": []
   },
   "outputs": [
    {
     "data": {
      "image/png": "[encoded data removed]",
      "text/plain": [
       "<Figure size 800x500 with 1 Axes>"
      ]
     },
     "metadata": {},
     "output_type": "display_data"
    },
    {
     "name": "stdout",
     "output_type": "stream",
     "text": [
      "(1490, 3)\n"
     ]
    }
   ],
   "source": [
    "#df = df.drop(columns = [\"ArticleId\"] )\n",
    "# Plot histogram\n",
    "plt.figure(figsize=(8, 5))\n",
    "sns.countplot(data=df, x='Category')\n",
    "plt.title(\"BBC News - Test Data\")\n",
    "plt.xlabel(\"Category\")\n",
    "plt.ylabel(\"Count\")\n",
    "ax = sns.countplot(x='Category', data=df)\n",
    "plt.bar_label(ax.containers[0]) \n",
    "plt.xticks([0, 1,2,3,4], ['sport', 'tech','business','entertainment','politics'])\n",
    "plt.show()\n",
    "print(df.shape)"
   ]
  },
  {
   "cell_type": "code",
   "execution_count": 6,
   "id": "dec99d31",
   "metadata": {
    "execution": {
     "iopub.execute_input": "2025-03-31T21:09:20.735299Z",
     "iopub.status.busy": "2025-03-31T21:09:20.734951Z",
     "iopub.status.idle": "2025-03-31T21:09:23.420506Z",
     "shell.execute_reply": "2025-03-31T21:09:23.418172Z"
    },
    "papermill": {
     "duration": 2.692129,
     "end_time": "2025-03-31T21:09:23.422280",
     "exception": false,
     "start_time": "2025-03-31T21:09:20.730151",
     "status": "completed"
    },
    "tags": []
   },
   "outputs": [
    {
     "name": "stdout",
     "output_type": "stream",
     "text": [
      "Your submission was successfully saved!\n"
     ]
    }
   ],
   "source": [
    "from sklearn.feature_extraction.text import TfidfVectorizer\n",
    "from sklearn.cluster import KMeans\n",
    "\n",
    "# vectorize\n",
    "vectorizer = TfidfVectorizer(stop_words='english')\n",
    "X_train = vectorizer.fit_transform(df[\"Text\"])\n",
    "\n",
    "# Train K-means model\n",
    "kmeans = KMeans(n_clusters=5, n_init=10, random_state=42)\n",
    "kmeans.fit(X_train)\n",
    "\n",
    "# Transform test data using same vectorizer\n",
    "X_test = vectorizer.transform(dftest[\"Text\"])\n",
    "\n",
    "# Predict clusters \n",
    "test_clusters = kmeans.predict(X_test)\n",
    "\n",
    "# map cluster nums to cat names\n",
    "cat_map = {\n",
    "    0: \"entertainment\",\n",
    "    1: \"business\",\n",
    "    2: \"sport\",\n",
    "    3: \"politics\",\n",
    "    4: \"tech\"\n",
    "}\n",
    "\n",
    "clusts = [cat_map[num] for num in test_clusters]\n",
    "output = pd.DataFrame({'ArticleId': dftest[\"ArticleId\"], 'Category': clusts})\n",
    "#display(output.head())\n",
    "output.to_csv('submission.csv', index=False)\n",
    "print(\"Your submission was successfully saved!\")"
   ]
  }
 ],
 "metadata": {
  "kaggle": {
   "accelerator": "none",
   "dataSources": [
    {
     "databundleVersionId": 324297,
     "sourceId": 13351,
     "sourceType": "competition"
    }
   ],
   "dockerImageVersionId": 30918,
   "isGpuEnabled": false,
   "isInternetEnabled": true,
   "language": "python",
   "sourceType": "notebook"
  },
  "kernelspec": {
   "display_name": "Python 3",
   "language": "python",
   "name": "python3"
  },
  "language_info": {
   "codemirror_mode": {
    "name": "ipython",
    "version": 3
   },
   "file_extension": ".py",
   "mimetype": "text/x-python",
   "name": "python",
   "nbconvert_exporter": "python",
   "pygments_lexer": "ipython3",
   "version": "3.10.12"
  },
  "papermill": {
   "default_parameters": {},
   "duration": 9.982407,
   "end_time": "2025-03-31T21:09:24.246710",
   "environment_variables": {},
   "exception": null,
   "input_path": "__notebook__.ipynb",
   "output_path": "__notebook__.ipynb",
   "parameters": {},
   "start_time": "2025-03-31T21:09:14.264303",
   "version": "2.6.0"
  }
 },
 "nbformat": 4,
 "nbformat_minor": 5
}
